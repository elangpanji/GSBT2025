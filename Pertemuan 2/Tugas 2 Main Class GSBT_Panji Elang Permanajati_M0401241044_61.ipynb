{
  "nbformat": 4,
  "nbformat_minor": 0,
  "metadata": {
    "colab": {
      "provenance": []
    },
    "kernelspec": {
      "name": "python3",
      "display_name": "Python 3"
    },
    "language_info": {
      "name": "python"
    }
  },
  "cells": [
    {
      "cell_type": "markdown",
      "source": [
        "# Overview Materi\n",
        "\n",
        "Source: https://www.youtube.com/watch?v=LDRbO9a6XPU"
      ],
      "metadata": {
        "id": "fQjXfMWTFXhh"
      }
    },
    {
      "cell_type": "markdown",
      "source": [
        "Jelaskan secara singkat apa itu decision tree menurut pemahamanmu!"
      ],
      "metadata": {
        "id": "UH5otNgmFY4r"
      }
    },
    {
      "cell_type": "markdown",
      "source": [
        "Decision Tree adalah salah satu algoritma machine learning berbentuk struktur pohon, yang digunakan untuk klasifikasi maupun regresi. Cara kerjanya seperti data dipilah secara bertahap dengan aturan pada setiap node. Node internal ialah kondisi atau pertanyaan. Cabang adalah hasil dari kondisi tersebut (Ya/Tidak). Daun (leaf) artinya hasil akhir berupa klasifikasi atau nilai. Jadi, decision tree membagi data menjadi kelompok-kelompok kecil berdasarkan fitur sehingga mempermudah pengambilan keputusan."
      ],
      "metadata": {
        "id": "kYE1OQYYjqIk"
      }
    },
    {
      "cell_type": "markdown",
      "source": [
        "# Import Data & Libraries"
      ],
      "metadata": {
        "id": "yR_dxhoaIGZY"
      }
    },
    {
      "cell_type": "code",
      "execution_count": 3,
      "metadata": {
        "id": "E3fobMaeFOAe"
      },
      "outputs": [],
      "source": [
        "from __future__ import print_function\n",
        "\n",
        "# label kolom\n",
        "header = [\"color\", \"diameter\", \"label\"]\n",
        "\n",
        "# data training\n",
        "training_data = [\n",
        "    ['Green', 3, 'Apple'],\n",
        "    ['Yellow', 3, 'Apple'],\n",
        "    ['Red', 1, 'Grape'],\n",
        "    ['Red', 1, 'Grape'],\n",
        "    ['Yellow', 3, 'Lemon'],]\n",
        "\n",
        "# data testing\n",
        "testing_data = [\n",
        "    ['Green', 3, 'Apple'],\n",
        "    ['Yellow', 4, 'Apple'],\n",
        "    ['Red', 2, 'Grape'],\n",
        "    ['Red', 1, 'Grape'],\n",
        "    ['Yellow', 3, 'Lemon'],]"
      ]
    },
    {
      "cell_type": "markdown",
      "source": [
        "# Fungsi Dasar"
      ],
      "metadata": {
        "id": "YMsTb3E1MWY6"
      }
    },
    {
      "cell_type": "code",
      "source": [
        "# fungsi mencari apa saja unique value dari suatu kolom\n",
        "def unique_vals(rows, col_index):\n",
        "    return set([row[col_index] for row in rows])\n",
        "\n",
        "# contoh penggunaan\n",
        "print(\"Unique values di kolom color:\", unique_vals(training_data, 0))\n",
        "print(\"Unique values di kolom diameter:\", unique_vals(training_data, 1))\n",
        "print(\"Unique values di kolom label:\", unique_vals(training_data, 2))"
      ],
      "metadata": {
        "id": "Bgzx5gwhSTWp",
        "colab": {
          "base_uri": "https://localhost:8080/"
        },
        "outputId": "4c86f7c9-f535-462d-a47b-2d8df957cdbb"
      },
      "execution_count": 4,
      "outputs": [
        {
          "output_type": "stream",
          "name": "stdout",
          "text": [
            "Unique values di kolom color: {'Yellow', 'Red', 'Green'}\n",
            "Unique values di kolom diameter: {1, 3}\n",
            "Unique values di kolom label: {'Apple', 'Grape', 'Lemon'}\n"
          ]
        }
      ]
    },
    {
      "cell_type": "code",
      "source": [
        "# fungsi Menghitung jumlah unique value dari suatu kolom\n",
        "def class_counts(rows):\n",
        "    counts = {}\n",
        "    for row in rows:\n",
        "        label = row[-1]\n",
        "        if label not in counts:\n",
        "            counts[label] = 0\n",
        "        counts[label] += 1\n",
        "    return counts\n",
        "\n",
        "# contoh penggunaan\n",
        "training_data = [\n",
        "    ['Green', 3, 'Apple'],\n",
        "    ['Yellow', 3, 'Apple'],\n",
        "    ['Red', 1, 'Grape'],\n",
        "    ['Red', 1, 'Grape'],\n",
        "    ['Yellow', 3, 'Lemon'],\n",
        "]\n",
        "print(class_counts(training_data))"
      ],
      "metadata": {
        "id": "hhF6uUhrJesN",
        "colab": {
          "base_uri": "https://localhost:8080/"
        },
        "outputId": "f6e39145-ce87-49d7-db78-e71ecb61873e"
      },
      "execution_count": 5,
      "outputs": [
        {
          "output_type": "stream",
          "name": "stdout",
          "text": [
            "{'Apple': 2, 'Grape': 2, 'Lemon': 1}\n"
          ]
        }
      ]
    },
    {
      "cell_type": "code",
      "source": [
        "# fungsi pengecekan suatu value numerik atau bukan\n",
        "def is_numeric(value):\n",
        "    return isinstance(value, int) or isinstance(value, float)\n",
        "\n",
        "# contoh penggunaan\n",
        "print(is_numeric(7))\n",
        "print(is_numeric(3.5))\n",
        "print(is_numeric(\"Apple\"))\n",
        "print(is_numeric(\"7\"))"
      ],
      "metadata": {
        "id": "U9mxqVcnI9vw",
        "colab": {
          "base_uri": "https://localhost:8080/"
        },
        "outputId": "ae168daf-f76c-4191-f4ce-b582c1c21281"
      },
      "execution_count": 6,
      "outputs": [
        {
          "output_type": "stream",
          "name": "stdout",
          "text": [
            "True\n",
            "True\n",
            "False\n",
            "False\n"
          ]
        }
      ]
    },
    {
      "cell_type": "code",
      "source": [
        "# kelas untuk merepresentasikan pertanyaan pada decision tree\n",
        "class Question:\n",
        "\n",
        "    # inisialisasi kolom dan nilai pertanyaan\n",
        "    def __init__(self, column, value):\n",
        "        self.column = column\n",
        "        self.value = value\n",
        "\n",
        "    # mengecek apakah contoh data sesuai dengan pertanyaan\n",
        "    def match(self, example):\n",
        "        val = example[self.column]\n",
        "        if is_numeric(val):\n",
        "            return val >= self.value\n",
        "        else:\n",
        "            return val == self.value\n",
        "\n",
        "    # menampilkan pertanyaan dalam format string yang mudah dibaca\n",
        "    def __repr__(self):\n",
        "        condition = \">=\" if is_numeric(self.value) else \"==\"\n",
        "        return f\"Apakah {header[self.column]} {condition} {self.value}?\"\n",
        "\n",
        "# contoh penggunaan 1\n",
        "q1 = Question(0, \"Green\")\n",
        "q2 = Question(1, 3)\n",
        "print(q1)\n",
        "print(q2)\n",
        "\n",
        "# cek match dengan data\n",
        "example = training_data[0]\n",
        "print(q1.match(example))\n",
        "print(q2.match(example))"
      ],
      "metadata": {
        "id": "MekftmdeLPRo",
        "colab": {
          "base_uri": "https://localhost:8080/"
        },
        "outputId": "ef1d1111-0b84-47f2-94ae-e5ef10752567"
      },
      "execution_count": 8,
      "outputs": [
        {
          "output_type": "stream",
          "name": "stdout",
          "text": [
            "Apakah color == Green?\n",
            "Apakah diameter >= 3?\n",
            "True\n",
            "True\n"
          ]
        }
      ]
    },
    {
      "cell_type": "code",
      "source": [
        "# membagi dataset menjadi dua berdasarkan pertanyaan\n",
        "def partition(rows, question):\n",
        "    true_rows, false_rows = [], []\n",
        "    for row in rows:\n",
        "        if question.match(row):\n",
        "            true_rows.append(row)\n",
        "        else:\n",
        "            false_rows.append(row)\n",
        "    return true_rows, false_rows\n",
        "\n",
        "# contoh penggunaan\n",
        "q = Question(0, \"Green\")\n",
        "true_rows, false_rows = partition(training_data, q)\n",
        "print(\"True rows:\", true_rows)\n",
        "print(\"False rows:\", false_rows)"
      ],
      "metadata": {
        "id": "Y3lTf9NbL8Ik",
        "colab": {
          "base_uri": "https://localhost:8080/"
        },
        "outputId": "7bd0cd21-6150-47a1-8e74-ecd5e2a448a5"
      },
      "execution_count": 9,
      "outputs": [
        {
          "output_type": "stream",
          "name": "stdout",
          "text": [
            "True rows: [['Green', 3, 'Apple']]\n",
            "False rows: [['Yellow', 3, 'Apple'], ['Red', 1, 'Grape'], ['Red', 1, 'Grape'], ['Yellow', 3, 'Lemon']]\n"
          ]
        }
      ]
    },
    {
      "cell_type": "markdown",
      "source": [
        "**apa itu gini impurity?**\n",
        "<br> gini impurity berfungsi mengukur tingkat ketidakmurnian atau ketidakteraturan pada sebuah simpul (node) dalam pohon"
      ],
      "metadata": {
        "id": "X4D5BkyeMdSG"
      }
    },
    {
      "cell_type": "code",
      "source": [
        "# menghitung nilai Gini Impurity untuk sebuah dataset\n",
        "def gini(rows):\n",
        "    counts = class_counts(rows)  # hitung jumlah tiap label\n",
        "    impurity = 1\n",
        "    for lbl in counts:\n",
        "        prob_of_lbl = counts[lbl] / float(len(rows))\n",
        "        impurity -= prob_of_lbl**2\n",
        "    return impurity\n",
        "\n",
        "# contoh penggunaan\n",
        "print(\"Gini training_data:\", gini(training_data))\n",
        "\n",
        "# coba dataset kecil\n",
        "example_rows = [\n",
        "    ['Red', 1, 'Grape'],\n",
        "    ['Red', 1, 'Grape'],\n",
        "    ['Yellow', 3, 'Lemon']\n",
        "]\n",
        "print(\"Gini example_rows:\", gini(example_rows))"
      ],
      "metadata": {
        "id": "DmAnmSzFMKtA",
        "colab": {
          "base_uri": "https://localhost:8080/"
        },
        "outputId": "9676e968-183f-4515-9f09-28a2733c645b"
      },
      "execution_count": 10,
      "outputs": [
        {
          "output_type": "stream",
          "name": "stdout",
          "text": [
            "Gini training_data: 0.6399999999999999\n",
            "Gini example_rows: 0.4444444444444445\n"
          ]
        }
      ]
    },
    {
      "cell_type": "markdown",
      "source": [
        "**apa itu information gain?**\n",
        "<br> information gain berfungsi mengukur seberapa efektif sebuah fitur dalam memisahkan data berdasarkan kelas-kelasnya"
      ],
      "metadata": {
        "id": "SyxWlLNOM_2U"
      }
    },
    {
      "cell_type": "code",
      "source": [
        "# menghitung nilai Information Gain dari pemisahan dataset\n",
        "def info_gain(left, right, current_uncertainty):\n",
        "    p = float(len(left)) / (len(left) + len(right))\n",
        "    return current_uncertainty - p * gini(left) - (1 - p) * gini(right)\n",
        "\n",
        "# contoh penggunaan\n",
        "# ambil pertanyaan untuk split\n",
        "q = Question(0, 'Red')\n",
        "true_rows, false_rows = partition(training_data, q)\n",
        "\n",
        "# hitung info gain\n",
        "current_uncertainty = gini(training_data)\n",
        "gain = info_gain(true_rows, false_rows, current_uncertainty)\n",
        "\n",
        "print(\"Information Gain untuk pertanyaan:\", q, \"adalah\", gain)"
      ],
      "metadata": {
        "id": "rObVucEEMiIZ",
        "colab": {
          "base_uri": "https://localhost:8080/"
        },
        "outputId": "d11d0cf8-0cbd-4570-eb86-958563d0664e"
      },
      "execution_count": 11,
      "outputs": [
        {
          "output_type": "stream",
          "name": "stdout",
          "text": [
            "Information Gain untuk pertanyaan: Apakah color == Red? adalah 0.37333333333333324\n"
          ]
        }
      ]
    },
    {
      "cell_type": "code",
      "source": [
        "# mencari pertanyaan terbaik untuk membagi dataset berdasarkan information gain tertinggi\n",
        "def find_best_split(rows):\n",
        "    best_gain = 0\n",
        "    best_question = None\n",
        "    current_uncertainty = gini(rows)\n",
        "    n_features = len(rows[0]) - 1\n",
        "\n",
        "    for col in range(n_features):\n",
        "        values = set([row[col] for row in rows])\n",
        "\n",
        "        for val in values:\n",
        "            question = Question(col, val)\n",
        "\n",
        "            # splitting the dataset\n",
        "            true_rows, false_rows = partition(rows, question)\n",
        "\n",
        "            # Skip this split if it doesn't divide the dataset\n",
        "            if len(true_rows) == 0 or len(false_rows) == 0:\n",
        "                continue\n",
        "            gain = info_gain(true_rows, false_rows, current_uncertainty)\n",
        "            if gain >= best_gain:\n",
        "                best_gain, best_question = gain, question\n",
        "    return best_gain, best_question\n",
        "\n",
        "# contoh penggunaan\n",
        "best_gain, best_question = find_best_split(training_data)\n",
        "print(\"Best Gain:\", best_gain)\n",
        "print(\"Best Question:\", best_question)"
      ],
      "metadata": {
        "id": "OK8Lc7koOIyS",
        "colab": {
          "base_uri": "https://localhost:8080/"
        },
        "outputId": "c5ab586c-0d20-4212-d38c-6f361c8f1d05"
      },
      "execution_count": 12,
      "outputs": [
        {
          "output_type": "stream",
          "name": "stdout",
          "text": [
            "Best Gain: 0.37333333333333324\n",
            "Best Question: Apakah diameter >= 3?\n"
          ]
        }
      ]
    },
    {
      "cell_type": "markdown",
      "source": [
        "# Fungsi Decision Tree"
      ],
      "metadata": {
        "id": "t225xaaIPGow"
      }
    },
    {
      "cell_type": "code",
      "source": [
        "# merepresentasikan node daun (leaf) pada decision tree yang berisi hasil prediksi\n",
        "class Leaf:\n",
        "\n",
        "    # inisialisasi leaf dengan menghitung jumlah kemunculan tiap kelas\n",
        "    def __init__(self, rows):\n",
        "        self.predictions = class_counts(rows)"
      ],
      "metadata": {
        "id": "3KXNVwMPOZ5c"
      },
      "execution_count": 13,
      "outputs": []
    },
    {
      "cell_type": "code",
      "source": [
        "# merepresentasikan node keputusan (decision node) yang berisi pertanyaan dan cabang\n",
        "class Decision_Node:\n",
        "\n",
        "    # inisialisasi node dengan pertanyaan, cabang benar, dan cabang salah\n",
        "    def __init__(self, question, true_branch, false_branch):\n",
        "        self.question = question\n",
        "        self.true_branch = true_branch\n",
        "        self.false_branch = false_branch"
      ],
      "metadata": {
        "id": "gktUwUY-P-eN"
      },
      "execution_count": 14,
      "outputs": []
    },
    {
      "cell_type": "code",
      "source": [
        "# membangun decision tree secara rekursif\n",
        "def build_tree(rows):\n",
        "\n",
        "    gain, question = find_best_split(rows)\n",
        "    if gain == 0:\n",
        "        return Leaf(rows)\n",
        "    true_rows, false_rows = partition(rows, question)\n",
        "    true_branch = build_tree(true_rows)\n",
        "    false_branch = build_tree(false_rows)\n",
        "    return Decision_Node(question, true_branch, false_branch)"
      ],
      "metadata": {
        "id": "_cWHvsMKPPsk"
      },
      "execution_count": 15,
      "outputs": []
    },
    {
      "cell_type": "code",
      "source": [
        "# mencetak struktur decision tree secara rekursif dalam format teks\n",
        "def print_tree(node, spacing=\"\"):\n",
        "\n",
        "    # base case: jika sudah mencapai leaf\n",
        "    if isinstance(node, Leaf):\n",
        "        print(spacing + \"Predict\", node.predictions)\n",
        "        return\n",
        "\n",
        "    # mencetak pertanyaan pada node saat ini\n",
        "    print(spacing + str(node.question))\n",
        "\n",
        "    # mencetak cabang true secara rekursif\n",
        "    print(spacing + '--> True:')\n",
        "    print_tree(node.true_branch, spacing + \"  \")\n",
        "\n",
        "    # mencetak cabang false secara rekursif\n",
        "    print(spacing + '--> False:')\n",
        "    print_tree(node.false_branch, spacing + \"  \")\n",
        "\n",
        "# contoh penggunaan\n",
        "my_tree = build_tree(training_data)\n",
        "print_tree(my_tree)"
      ],
      "metadata": {
        "id": "tx_AbjiYPS05",
        "colab": {
          "base_uri": "https://localhost:8080/"
        },
        "outputId": "badbed74-6db0-4574-f4a6-8b5c4110e7c1"
      },
      "execution_count": 16,
      "outputs": [
        {
          "output_type": "stream",
          "name": "stdout",
          "text": [
            "Apakah diameter >= 3?\n",
            "--> True:\n",
            "  Apakah color == Yellow?\n",
            "  --> True:\n",
            "    Predict {'Apple': 1, 'Lemon': 1}\n",
            "  --> False:\n",
            "    Predict {'Apple': 1}\n",
            "--> False:\n",
            "  Predict {'Grape': 2}\n"
          ]
        }
      ]
    },
    {
      "cell_type": "code",
      "source": [
        "# mengklasifikasikan satu baris data menggunakan decision tree\n",
        "def classify(row, node):\n",
        "\n",
        "    # base case: jika sudah mencapai leaf\n",
        "    if isinstance(node, Leaf):\n",
        "        return node.predictions\n",
        "\n",
        "    # menentukan apakah mengikuti cabang true atau cabang false\n",
        "    # dengan membandingkan nilai fitur pada baris dengan pertanyaan di node\n",
        "    if node.question.match(row):\n",
        "        return classify(row, node.true_branch)\n",
        "    else:\n",
        "        return classify(row, node.false_branch)\n",
        "\n",
        "# contoh penggunaan\n",
        "my_tree = build_tree(training_data)\n",
        "print(classify(testing_data[0], my_tree))  # contoh output: {'Apple': 1}\n",
        "print(classify(testing_data[1], my_tree))"
      ],
      "metadata": {
        "id": "tchvhQc-PVC2",
        "colab": {
          "base_uri": "https://localhost:8080/"
        },
        "outputId": "0b19c327-0224-4bed-f171-147b3894d138"
      },
      "execution_count": 17,
      "outputs": [
        {
          "output_type": "stream",
          "name": "stdout",
          "text": [
            "{'Apple': 1}\n",
            "{'Apple': 1, 'Lemon': 1}\n"
          ]
        }
      ]
    },
    {
      "cell_type": "code",
      "source": [
        "# menampilkan prediksi pada leaf dalam format persentase\n",
        "def print_leaf(counts):\n",
        "    total = sum(counts.values())\n",
        "    probs = {}\n",
        "    for lbl in counts:\n",
        "        probs[lbl] = str(int(counts[lbl] / total * 100)) + \"%\"\n",
        "    return probs\n",
        "\n",
        "# contoh penggunaan\n",
        "my_tree = build_tree(training_data)\n",
        "\n",
        "prediction = classify(testing_data[0], my_tree)\n",
        "print(print_leaf(prediction))\n",
        "\n",
        "prediction = classify(testing_data[1], my_tree)\n",
        "print(print_leaf(prediction))"
      ],
      "metadata": {
        "id": "w8r0lzWpQM7c",
        "colab": {
          "base_uri": "https://localhost:8080/"
        },
        "outputId": "fd66318c-776c-494f-d9a3-0cbe32d01f45"
      },
      "execution_count": 18,
      "outputs": [
        {
          "output_type": "stream",
          "name": "stdout",
          "text": [
            "{'Apple': '100%'}\n",
            "{'Apple': '50%', 'Lemon': '50%'}\n"
          ]
        }
      ]
    },
    {
      "cell_type": "markdown",
      "source": [
        "# Predict Using Decision Tree"
      ],
      "metadata": {
        "id": "JLT1_TuuQWlI"
      }
    },
    {
      "cell_type": "code",
      "source": [
        "# menguji decision tree dengan data uji dan membandingkan hasil prediksi dengan label asli\n",
        "for row in testing_data:\n",
        "    prediction = classify(row, my_tree)\n",
        "    print(\"Data:\", row)\n",
        "    print(\"Prediksi:\", print_leaf(prediction))\n",
        "    print(\"Label Asli:\", row[-1])\n",
        "    print()"
      ],
      "metadata": {
        "id": "DhG5NCwHQSlF",
        "colab": {
          "base_uri": "https://localhost:8080/"
        },
        "outputId": "1b240159-1b34-4d75-dc12-f3065c2d4789"
      },
      "execution_count": 19,
      "outputs": [
        {
          "output_type": "stream",
          "name": "stdout",
          "text": [
            "Data: ['Green', 3, 'Apple']\n",
            "Prediksi: {'Apple': '100%'}\n",
            "Label Asli: Apple\n",
            "\n",
            "Data: ['Yellow', 4, 'Apple']\n",
            "Prediksi: {'Apple': '50%', 'Lemon': '50%'}\n",
            "Label Asli: Apple\n",
            "\n",
            "Data: ['Red', 2, 'Grape']\n",
            "Prediksi: {'Grape': '100%'}\n",
            "Label Asli: Grape\n",
            "\n",
            "Data: ['Red', 1, 'Grape']\n",
            "Prediksi: {'Grape': '100%'}\n",
            "Label Asli: Grape\n",
            "\n",
            "Data: ['Yellow', 3, 'Lemon']\n",
            "Prediksi: {'Apple': '50%', 'Lemon': '50%'}\n",
            "Label Asli: Lemon\n",
            "\n"
          ]
        }
      ]
    }
  ]
}